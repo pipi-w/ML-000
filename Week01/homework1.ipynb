{
 "cells": [
  {
   "cell_type": "code",
   "execution_count": 1,
   "metadata": {},
   "outputs": [],
   "source": [
    "%load_ext Cython"
   ]
  },
  {
   "cell_type": "markdown",
   "metadata": {},
   "source": [
    "## 参考网上的例子"
   ]
  },
  {
   "cell_type": "code",
   "execution_count": 4,
   "metadata": {},
   "outputs": [],
   "source": [
    "import numpy as np\n",
    "\n",
    "def naive_dot(a, b):\n",
    "    if a.shape[1] != b.shape[0]:\n",
    "        raise ValueError('shape not matched')\n",
    "    n, p, m = a.shape[0], a.shape[1], b.shape[1]\n",
    "    c = np.zeros((n, m), dtype=np.float32)\n",
    "    for i in xrange(n):\n",
    "        for j in xrange(m):\n",
    "            s = 0\n",
    "            for k in xrange(p):\n",
    "                s += a[i, k] * b[k, j]\n",
    "            c[i, j] = s\n",
    "    return c"
   ]
  },
  {
   "cell_type": "code",
   "execution_count": 2,
   "metadata": {},
   "outputs": [
    {
     "name": "stderr",
     "output_type": "stream",
     "text": [
      "UsageError: %%cython is a cell magic, but the cell body is empty.\n"
     ]
    }
   ],
   "source": [
    "%%cython"
   ]
  },
  {
   "cell_type": "code",
   "execution_count": 3,
   "metadata": {},
   "outputs": [],
   "source": [
    "%%cython\n",
    "import numpy as np\n",
    "cimport numpy as np\n",
    "cimport cython\n",
    "\n",
    "@cython.boundscheck(False)\n",
    "@cython.wraparound(False)\n",
    "cdef np.ndarray[np.float32_t, ndim=2]_naive_dot(np.ndarray[np.float32_t, ndim=2] a, np.ndarray[np.float32_t, ndim=2] b):\n",
    "    cdef np.ndarray[np.float32_t, ndim=2] c\n",
    "    cdef int n, p, m\n",
    "    cdef np.float32_t s\n",
    "    if a.shape[1] != b.shape[0]:\n",
    "        raise ValueError('shape not matched')\n",
    "    n, p, m = a.shape[0], a.shape[1], b.shape[1]\n",
    "    c = np.zeros((n, m), dtype=np.float32)\n",
    "    for i in xrange(n):\n",
    "        for j in range(m):\n",
    "            s = 0\n",
    "            for k in range(p):\n",
    "                s += a[i, k] * b[k, j]\n",
    "            c[i, j] = s\n",
    "    return c\n",
    "\n",
    "def naive_dot(a, b):\n",
    "    return _naive_dot(a, b)"
   ]
  },
  {
   "cell_type": "markdown",
   "metadata": {},
   "source": [
    "## 课上给的代码"
   ]
  },
  {
   "cell_type": "code",
   "execution_count": 55,
   "metadata": {},
   "outputs": [
    {
     "name": "stdout",
     "output_type": "stream",
     "text": [
      "0.0\n"
     ]
    }
   ],
   "source": [
    "import numpy as np\n",
    "import pandas as pd\n",
    "\n",
    "\n",
    "def target_mean_v1(data, y_name, x_name):\n",
    "    result = np.zeros(data.shape[0])\n",
    "    for i in range(data.shape[0]):\n",
    "        groupby_result = data[data.index != i].groupby([x_name], as_index=False).agg(['mean', 'count'])\n",
    "        result[i] = groupby_result.loc[groupby_result.index == data.loc[i, x_name], (y_name, 'mean')]\n",
    "    return result\n",
    "\n",
    "\n",
    "def target_mean_v2(data, y_name, x_name):\n",
    "    result = np.zeros(data.shape[0])\n",
    "    value_dict = dict()\n",
    "    count_dict = dict()\n",
    "    for i in range(data.shape[0]):\n",
    "        if data.loc[i, x_name] not in value_dict.keys():\n",
    "            value_dict[data.loc[i, x_name]] = data.loc[i, y_name]\n",
    "            count_dict[data.loc[i, x_name]] = 1\n",
    "        else:\n",
    "            value_dict[data.loc[i, x_name]] += data.loc[i, y_name]\n",
    "            count_dict[data.loc[i, x_name]] += 1\n",
    "    for i in range(data.shape[0]):\n",
    "        result[i] = (value_dict[data.loc[i, x_name]] - data.loc[i, y_name]) / (count_dict[data.loc[i, x_name]] - 1)\n",
    "    return result\n",
    "\n",
    "\n",
    "\n"
   ]
  },
  {
   "cell_type": "code",
   "execution_count": 59,
   "metadata": {},
   "outputs": [
    {
     "name": "stdout",
     "output_type": "stream",
     "text": [
      "Running time: 18.34619019999991 Seconds\n"
     ]
    }
   ],
   "source": [
    "import timeit\n",
    "start=timeit.default_timer()\n",
    "y = np.random.randint(2, size=(5000, 1))\n",
    "x = np.random.randint(10, size=(5000, 1))\n",
    "data = pd.DataFrame(np.concatenate([y, x], axis=1), columns=['y', 'x'])\n",
    "result_1 = target_mean_v1(data, 'y', 'x')\n",
    "result_2 = target_mean_v2(data, 'y', 'x')\n",
    "diff = np.linalg.norm(result_1 - result_2)\n",
    "end=timeit.default_timer()\n",
    "print('Running time: %s Seconds'%(end-start))"
   ]
  },
  {
   "cell_type": "code",
   "execution_count": 50,
   "metadata": {},
   "outputs": [],
   "source": [
    "%%cython\n",
    "import numpy as np\n",
    "cimport numpy as np\n",
    "cimport cython\n",
    "\n",
    "\n",
    "@cython.boundscheck(False)\n",
    "@cython.wraparound(False)\n",
    "def target_mean_v3(data,y_name,x_name):\n",
    "    cdef np.ndarray[np.double_t] result \n",
    "    result = np.zeros(data.shape[0])\n",
    "    value_dict = dict()\n",
    "    count_dict = dict()\n",
    "    for i in range(data.shape[0]):\n",
    "        if data.loc[i, x_name] not in value_dict.keys():\n",
    "            value_dict[data.loc[i, x_name]] = data.loc[i, y_name]\n",
    "            count_dict[data.loc[i, x_name]] = 1\n",
    "        else:\n",
    "            value_dict[data.loc[i, x_name]] += data.loc[i, y_name]\n",
    "            count_dict[data.loc[i, x_name]] += 1\n",
    "    for i in range(data.shape[0]):\n",
    "        result[i] = (value_dict[data.loc[i, x_name]] - data.loc[i, y_name]) / (count_dict[data.loc[i, x_name]] - 1)\n",
    "    return result"
   ]
  },
  {
   "cell_type": "code",
   "execution_count": 60,
   "metadata": {},
   "outputs": [
    {
     "name": "stdout",
     "output_type": "stream",
     "text": [
      "Running time: 0.42188830000031885 Seconds\n"
     ]
    }
   ],
   "source": [
    "import timeit\n",
    "start=timeit.default_timer()\n",
    "#中间写代码块\n",
    "y = np.random.randint(2, size=(5000, 1))\n",
    "x = np.random.randint(10, size=(5000, 1))\n",
    "data = pd.DataFrame(np.concatenate([y, x], axis=1), columns=['y', 'x'])\n",
    "result_2 =target_mean_v3(data, 'y', 'x')\n",
    "result_1 =target_mean_v2(data, 'y', 'x')\n",
    "diff = np.linalg.norm(result_1 - result_2)\n",
    "end=timeit.default_timer()\n",
    "print('Running time: %s Seconds'%(end-start))"
   ]
  },
  {
   "cell_type": "markdown",
   "metadata": {},
   "source": [
    "## 经过两个时间对比，不用cython时候：18.34619019999991，用了cython的时候：0.42188830000031885，几乎不足一秒"
   ]
  },
  {
   "cell_type": "markdown",
   "metadata": {},
   "source": [
    "1. 在上述实验中，对于输入的“target_mean_v3(data,y_name,x_name):”中函数的输入类型做出像参考程序当中的定义，尤其对于dataframe类型的“data”，无法用“double”或者“float”等类型对其定义。\n",
    "2. 在计算代码运行时间问题上，关于老师课上使用的“%%timeit”，我会一点，但是还是不如使用“timeit.default_timer()”熟练，需要进一步学习。"
   ]
  },
  {
   "cell_type": "code",
   "execution_count": null,
   "metadata": {},
   "outputs": [],
   "source": []
  }
 ],
 "metadata": {
  "kernelspec": {
   "display_name": "Python 3",
   "language": "python",
   "name": "python3"
  },
  "language_info": {
   "codemirror_mode": {
    "name": "ipython",
    "version": 3
   },
   "file_extension": ".py",
   "mimetype": "text/x-python",
   "name": "python",
   "nbconvert_exporter": "python",
   "pygments_lexer": "ipython3",
   "version": "3.7.4"
  }
 },
 "nbformat": 4,
 "nbformat_minor": 2
}
